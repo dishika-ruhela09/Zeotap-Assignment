{
 "cells": [
  {
   "cell_type": "code",
   "execution_count": 1,
   "id": "06822a7d-45c0-4fd5-9ba2-5e2b17e2345c",
   "metadata": {},
   "outputs": [],
   "source": [
    "import pandas as pd\n",
    "from sklearn.metrics.pairwise import cosine_similarity\n",
    "from sklearn.preprocessing import StandardScaler,MultiLabelBinarizer\n",
    "import numpy as np\n",
    "\n",
    "# Step 1: Load data\n",
    "customers_df = pd.read_csv('Customers.csv')  # Customer data\n",
    "products_df = pd.read_csv('Products.csv')  # Product data\n",
    "transactions_df = pd.read_csv('Transactions.csv')  # Transaction data\n"
   ]
  },
  {
   "cell_type": "code",
   "execution_count": 2,
   "id": "38a13812-b190-4a6a-8bc4-e637e24568a6",
   "metadata": {},
   "outputs": [],
   "source": [
    "# Step 2: Data Preprocessing\n",
    "# Assuming 'Transactions.csv' has columns like CustomerID, ProductID, Date, Amount\n",
    "# Merge customer info with their transactions\n",
    "customer_transaction_data = pd.merge(transactions_df, customers_df, on='CustomerID', how='left')"
   ]
  },
  {
   "cell_type": "code",
   "execution_count": 3,
   "id": "2a2ff33b-5046-4ad7-9d4e-df42712460f3",
   "metadata": {},
   "outputs": [],
   "source": [
    "# Merge product data with transaction data based on ProductID\n",
    "customer_transaction_data = pd.merge(customer_transaction_data, products_df, on='ProductID', how='left')"
   ]
  },
  {
   "cell_type": "code",
   "execution_count": 4,
   "id": "12c5817d-ab98-4d6d-945b-c0f7ac83710e",
   "metadata": {},
   "outputs": [
    {
     "name": "stdout",
     "output_type": "stream",
     "text": [
      "Index(['TransactionID', 'CustomerID', 'ProductID', 'TransactionDate',\n",
      "       'Quantity', 'TotalValue', 'Price_x', 'CustomerName', 'Region',\n",
      "       'SignupDate', 'ProductName', 'Category', 'Price_y'],\n",
      "      dtype='object')\n"
     ]
    }
   ],
   "source": [
    "print(customer_transaction_data.columns)"
   ]
  },
  {
   "cell_type": "code",
   "execution_count": 5,
   "id": "9aae00d3-8728-468a-b2d3-d570cb8e2b0c",
   "metadata": {},
   "outputs": [],
   "source": [
    "# Feature Engineering: Aggregating transaction data\n",
    "# Using 'TotalValue' for transaction amount, as it seems to represent the total value of the transaction\n",
    "customer_features = customer_transaction_data.groupby('CustomerID').agg({\n",
    "    'TotalValue': ['sum', 'mean', 'std'],  # Total, mean, and std for transaction value\n",
    "    'ProductID': 'nunique',  # Number of unique products purchased\n",
    "    'Category': lambda x: ','.join(x.unique()),  # List of unique categories purchased\n",
    "    'ProductName': 'count'  # Number of products purchased\n",
    "}).reset_index()"
   ]
  },
  {
   "cell_type": "code",
   "execution_count": 6,
   "id": "b20e7695-1881-4a93-9944-d3b893d7ff82",
   "metadata": {},
   "outputs": [],
   "source": [
    "# Flatten multi-level column names\n",
    "customer_features.columns = ['_'.join(col).strip() for col in customer_features.columns.values]\n"
   ]
  },
  {
   "cell_type": "code",
   "execution_count": 7,
   "id": "c3918ba1-1d5c-4a29-a4da-bad66b444eff",
   "metadata": {},
   "outputs": [],
   "source": [
    "customer_features = customer_features.rename(columns={'CustomerID_': 'CustomerID'})"
   ]
  },
  {
   "cell_type": "code",
   "execution_count": 8,
   "id": "7da0bffd-87d9-4acb-a40f-6801eb7d7bfc",
   "metadata": {},
   "outputs": [],
   "source": [
    "# Normalize transaction data (important for consistent comparison)\n",
    "scaler = StandardScaler()\n",
    "customer_features[['TotalValue_sum', 'TotalValue_mean', 'TotalValue_std']] = scaler.fit_transform(\n",
    "    customer_features[['TotalValue_sum', 'TotalValue_mean', 'TotalValue_std']]\n",
    ")"
   ]
  },
  {
   "cell_type": "code",
   "execution_count": 9,
   "id": "28d5e499-4488-49db-86d2-2c422fd375ce",
   "metadata": {
    "scrolled": true
   },
   "outputs": [],
   "source": [
    "# Create a combined customer profile, adding demographic info from customers\n",
    "customer_profile = customers_df[['CustomerID', 'CustomerName', 'Region', 'SignupDate']]  # Keep CustomerID for merging\n"
   ]
  },
  {
   "cell_type": "code",
   "execution_count": 10,
   "id": "ec6666c4-9524-4767-9ead-a61900bc42d1",
   "metadata": {},
   "outputs": [],
   "source": [
    "# Merge the dataframes\n",
    "customer_data = pd.merge(customer_features, customer_profile, on='CustomerID', how='left')"
   ]
  },
  {
   "cell_type": "code",
   "execution_count": 11,
   "id": "0a9c056f-cfa4-4ec2-a717-d04baea405cc",
   "metadata": {},
   "outputs": [],
   "source": [
    "# Merge product data with transaction data based on ProductID\n",
    "customer_transaction_data = pd.merge(customer_transaction_data, products_df[['ProductID', 'Category']], on='ProductID', how='left')\n"
   ]
  },
  {
   "cell_type": "code",
   "execution_count": 12,
   "id": "1761b51d-b46c-4805-9192-839b6688dfb8",
   "metadata": {},
   "outputs": [],
   "source": [
    "# Split the Category_<lambda> column into a list\n",
    "customer_data['Category_list'] = customer_data['Category_<lambda>'].apply(lambda x: x.split(',') if isinstance(x, str) else [])\n"
   ]
  },
  {
   "cell_type": "code",
   "execution_count": 13,
   "id": "fa0abaed-a57d-49f7-b93e-06b3f1aa2e50",
   "metadata": {},
   "outputs": [],
   "source": [
    "# Initialize the MultiLabelBinarizer\n",
    "mlb = MultiLabelBinarizer()"
   ]
  },
  {
   "cell_type": "code",
   "execution_count": 28,
   "id": "c73daef2-cf4b-440b-bee8-adc4f3aedbc2",
   "metadata": {},
   "outputs": [],
   "source": [
    "# Apply the transformation to the 'Category_list' column\n",
    "category_encoded = mlb.fit_transform(customer_data['Category_list'])\n"
   ]
  },
  {
   "cell_type": "code",
   "execution_count": 30,
   "id": "002a3801-1fb6-4f3c-ac1a-d642e2fc4806",
   "metadata": {},
   "outputs": [],
   "source": [
    "# Create a DataFrame with the encoded categories\n",
    "category_df = pd.DataFrame(category_encoded, columns=mlb.classes_)\n"
   ]
  },
  {
   "cell_type": "code",
   "execution_count": 32,
   "id": "9c7c4588-3d1a-4a06-8339-d0243682bffb",
   "metadata": {},
   "outputs": [],
   "source": [
    "# Join the new DataFrame with the existing customer data\n",
    "customer_data = customer_data.join(category_df)"
   ]
  },
  {
   "cell_type": "code",
   "execution_count": 34,
   "id": "bf4ee0f9-4db7-44e5-878e-ec131a25e4ba",
   "metadata": {},
   "outputs": [],
   "source": [
    "# Drop the original Category_<lambda> and Category_list columns\n",
    "customer_data = customer_data.drop(['Category_<lambda>', 'Category_list'], axis=1)\n"
   ]
  },
  {
   "cell_type": "code",
   "execution_count": 38,
   "id": "142db3c7-93f0-4fc3-b408-f332f80bba6f",
   "metadata": {},
   "outputs": [],
   "source": [
    "# Drop non-numeric columns before calculating cosine similarity\n",
    "numerical_columns = customer_data.select_dtypes(include=['float64', 'int64']).columns"
   ]
  },
  {
   "cell_type": "code",
   "execution_count": 44,
   "id": "a837ed83-d0cf-4ab8-83f1-1dd5f60a7b3b",
   "metadata": {},
   "outputs": [],
   "source": [
    "# Select only the numeric columns for similarity calculation\n",
    "customer_data_numeric = customer_data_numeric.fillna(customer_data_numeric.mean())"
   ]
  },
  {
   "cell_type": "code",
   "execution_count": 46,
   "id": "9fe7665d-db64-42f9-b08c-c90f4c819b6b",
   "metadata": {},
   "outputs": [],
   "source": [
    "# Calculate similarity scores using cosine similarity\n",
    "cosine_sim = cosine_similarity(customer_data_numeric)\n"
   ]
  },
  {
   "cell_type": "code",
   "execution_count": 48,
   "id": "68f34d7e-3385-4400-9754-e9574c65f56a",
   "metadata": {},
   "outputs": [],
   "source": [
    "# Generate recommendations for the first 20 customers\n",
    "recommendations = {}\n",
    "for idx, row in enumerate(cosine_sim[:20]):  # First 20 customers\n",
    "    # Get similarity scores for the current customer and sort them in descending order\n",
    "    sim_scores = [(i, score) for i, score in enumerate(row) if i != idx]\n",
    "    sim_scores = sorted(sim_scores, key=lambda x: x[1], reverse=True)[:3]\n",
    "    \n",
    "    # Map the current customer ID to the recommended customers with similarity scores\n",
    "    recommendations[customers_df.loc[idx, 'CustomerID']] = [\n",
    "        {'CustomerID': customers_df.loc[i, 'CustomerID'], 'SimilarityScore': score} for i, score in sim_scores\n",
    "    ]\n"
   ]
  },
  {
   "cell_type": "code",
   "execution_count": 50,
   "id": "67ca9170-633a-4439-865f-5790349c1bc7",
   "metadata": {},
   "outputs": [],
   "source": [
    "# Create a DataFrame for Lookalike.csv\n",
    "lookalike_df = []\n",
    "for cust_id, recs in recommendations.items():\n",
    "    for rec in recs:\n",
    "        lookalike_df.append({'CustomerID': cust_id, 'RecommendedCustomerID': rec['CustomerID'], 'SimilarityScore': rec['SimilarityScore']})\n",
    "\n",
    "lookalike_df = pd.DataFrame(lookalike_df)"
   ]
  },
  {
   "cell_type": "code",
   "execution_count": 52,
   "id": "0ce5baaf-cbe1-48ee-9f82-4c3f9d253104",
   "metadata": {},
   "outputs": [],
   "source": [
    "# Save the recommendations to Lookalike.csv\n",
    "lookalike_df.to_csv('Lookalike.csv', index=False)\n"
   ]
  },
  {
   "cell_type": "code",
   "execution_count": 54,
   "id": "ad550561-e3ca-4d08-b286-dd9a66519709",
   "metadata": {},
   "outputs": [
    {
     "name": "stdout",
     "output_type": "stream",
     "text": [
      "Lookalike recommendations have been saved to 'Lookalike.csv'\n"
     ]
    }
   ],
   "source": [
    "print(\"Lookalike recommendations have been saved to 'Lookalike.csv'\")"
   ]
  },
  {
   "cell_type": "code",
   "execution_count": null,
   "id": "6a5edb78-3072-4c45-a188-01cc4fc4330e",
   "metadata": {},
   "outputs": [],
   "source": []
  }
 ],
 "metadata": {
  "kernelspec": {
   "display_name": "Python 3 (ipykernel)",
   "language": "python",
   "name": "python3"
  },
  "language_info": {
   "codemirror_mode": {
    "name": "ipython",
    "version": 3
   },
   "file_extension": ".py",
   "mimetype": "text/x-python",
   "name": "python",
   "nbconvert_exporter": "python",
   "pygments_lexer": "ipython3",
   "version": "3.11.5"
  }
 },
 "nbformat": 4,
 "nbformat_minor": 5
}
